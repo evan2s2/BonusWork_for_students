{
 "cells": [
  {
   "cell_type": "markdown",
   "metadata": {
    "id": "sW33kFr1XBrn"
   },
   "source": [
    "# Периодические граничные условия и расчёт энергии"
   ]
  },
  {
   "cell_type": "markdown",
   "metadata": {
    "id": "SNekn5u8XBrr"
   },
   "source": [
    "Периодические граничные условия описываются следующим образом:\n",
    "\n",
    "Пусть бесконечная периодическая структура задана векторами трансляции $\\vec{a}$, $\\vec{b}$, $\\vec{c}$ и точкой $r$.\n",
    "\n",
    "Тогда произвольную точку $r'$ данной структуру можно описать выражением:\n",
    "\n",
    "$ r' = r + n_1\\vec{a} + n_2\\vec{b} + n_3\\vec{c}, $\n",
    "\n",
    "где $n_1$, $n_2$, $n_3$ - произвольные целые числа."
   ]
  },
  {
   "cell_type": "markdown",
   "metadata": {
    "id": "3E_JfhcGXBrt"
   },
   "source": [
    "Для того, чтобы рассмотреть примеры нам понадобятся 4 библиотеки:"
   ]
  },
  {
   "cell_type": "code",
   "execution_count": 5,
   "metadata": {
    "id": "Sm6rHEQTXBru"
   },
   "outputs": [],
   "source": [
    "import pandas as pd\n",
    "import numpy as np\n",
    "from itertools import product, combinations, permutations, combinations_with_replacement\n",
    "import matplotlib.pyplot as plt\n",
    "from matplotlib.pyplot import figure"
   ]
  },
  {
   "cell_type": "markdown",
   "metadata": {
    "id": "ZdEVD2m6XBrw"
   },
   "source": [
    "## Одномерный случай"
   ]
  },
  {
   "cell_type": "markdown",
   "metadata": {
    "id": "38JenE8oXBrw"
   },
   "source": [
    "В одномерном случае базис векторов трансляции определеяющий структуру $ T = n_1\\vec{a} + n_2\\vec{b} + n_3\\vec{c} $ определен одним числом $n$ и одним вектором $\\vec{a}$,\n",
    "\n",
    "и приобретает вид:\n",
    "\n",
    "$T = n*\\vec{a}$\n",
    "\n",
    "Тогда любая произвольная точка рассматриваемого одномерного пространства будет определена координатой $r'$, с учётом базиса векторов трансляции $T$ для рассматривамого одномерного случая:\n",
    "\n",
    "$ r' = r + n\\vec{a}, $ \n",
    "- где $n$ - любое произвольное число"
   ]
  },
  {
   "cell_type": "markdown",
   "metadata": {
    "id": "I2sDkzJlXBrx"
   },
   "source": [
    "Зададим периодические граничные условия, описывающее любую точку рассматриваемого пространства и \n",
    "\n",
    "поместим объект - материальную точку $r$ с координатой $[0]$ - в структуру, заданую вектором трансляции $T = [1]$ ($\\vec{a} = [1]$).\n",
    "\n",
    "Зададим `x = 0` в точке пространства, определяемой числом `n = 0` (трансляция точки в себя)"
   ]
  },
  {
   "cell_type": "code",
   "execution_count": 39,
   "metadata": {
    "id": "Nzu6Be9ZXBry"
   },
   "outputs": [],
   "source": [
    "# Translation vector a\n",
    "a = np.array([1])\n",
    "\n",
    "# Coordinate of defined point (1 dimentional)\n",
    "r = np.array([0])\n",
    "\n",
    "# Structural scaling factors\n",
    "n = [0]"
   ]
  },
  {
   "cell_type": "markdown",
   "metadata": {
    "id": "nHhtvXdjXBrz"
   },
   "source": [
    "Значение функции описывающей периодические граничные условия:\n",
    "\n",
    "`r_prime = r + n*a`\n",
    "\n",
    "зависит только от задаваемой точки $r$, набора трансляций $n$ и вектора трансляции $\\vec{a}$ "
   ]
  },
  {
   "cell_type": "code",
   "execution_count": 38,
   "metadata": {
    "id": "VjGoojV3XBr0"
   },
   "outputs": [],
   "source": [
    "def plot_1dim(a,r,n):\n",
    "    # Periodic Boundary Conditions (PBC)\n",
    "    r_prime = r + n*a\n",
    "    \n",
    "    # Plotting params without any physical information    \n",
    "    fig, ax = plt.subplots(figsize=(5, 1))\n",
    "    y = [0]*len(r_prime)\n",
    "    plt.plot(r_prime, y, 'o')\n",
    "    ax.spines['top'].set_visible(False)\n",
    "    ax.spines['right'].set_visible(False)\n",
    "    ax.spines['left'].set_visible(False)\n",
    "    plt.tick_params(axis='y', which='both', left=False, right=False, labelleft=False)\n",
    "    plt.show()"
   ]
  },
  {
   "cell_type": "markdown",
   "metadata": {
    "id": "dYZOY6LXXBr1"
   },
   "source": [
    "Построим:"
   ]
  },
  {
   "cell_type": "code",
   "execution_count": 8,
   "metadata": {
    "colab": {
     "base_uri": "https://localhost:8080/",
     "height": 102
    },
    "id": "7n_yQt4zXBr2",
    "outputId": "52ce231b-c43a-4ea3-f074-882ae5623ab2"
   },
   "outputs": [
    {
     "data": {
      "image/png": "[encoded data removed]",
      "text/plain": [
       "<Figure size 360x72 with 1 Axes>"
      ]
     },
     "metadata": {
      "needs_background": "light"
     },
     "output_type": "display_data"
    }
   ],
   "source": [
    "plot_1dim(a,r,n)"
   ]
  },
  {
   "cell_type": "markdown",
   "metadata": {
    "id": "09jutLGBXBr3"
   },
   "source": [
    "Зададим последовательность чисел nб которая определит несклько точек $r`$:"
   ]
  },
  {
   "cell_type": "code",
   "execution_count": 42,
   "metadata": {
    "id": "sAG6ZxYfXBr4"
   },
   "outputs": [],
   "source": [
    "n = np.arange(-5, 15, 1)"
   ]
  },
  {
   "cell_type": "code",
   "execution_count": 43,
   "metadata": {
    "colab": {
     "base_uri": "https://localhost:8080/",
     "height": 119
    },
    "id": "mWGuMWMRXBr4",
    "outputId": "3013ed8a-151e-4e4a-d912-723213012ca5"
   },
   "outputs": [
    {
     "name": "stdout",
     "output_type": "stream",
     "text": [
      "Набор чисел n: [-5 -4 -3 -2 -1  0  1  2  3  4  5  6  7  8  9 10 11 12 13 14]\n"
     ]
    },
    {
     "data": {
      "image/png": "[encoded data removed]",
      "text/plain": [
       "<Figure size 360x72 with 1 Axes>"
      ]
     },
     "metadata": {
      "needs_background": "light"
     },
     "output_type": "display_data"
    }
   ],
   "source": [
    "print(f'Набор чисел n: {n}')\n",
    "plot_1dim(a,r,n)"
   ]
  },
  {
   "cell_type": "markdown",
   "metadata": {
    "id": "OYEsEo4LXBr5"
   },
   "source": [
    "Пусть любое число $n_i$ из набора чисел $n$ описывается выражением $n_i=n_{i-1}+1$, для всех $n\\in{Z}$ (по определению),\n",
    "\n",
    "тогда, если бы указанное выражение, описывало кристаллическую структуру, то получено описание бесконечной периодической структуры:\n",
    "\n",
    "Вектор трансляции: `a = [1]`, с координатами едиственно описанного вида атомов, в базисе {a}: `r=[0]`\n"
   ]
  },
  {
   "cell_type": "markdown",
   "metadata": {
    "id": "rSbaTd9hXBr6"
   },
   "source": [
    "## Двумерный случай"
   ]
  },
  {
   "cell_type": "markdown",
   "metadata": {
    "id": "1RmQhXdmXBr6"
   },
   "source": [
    "В двумерном случае базис векторов трансляции определеяющий структуру $ T = n_1\\vec{a} + n_2\\vec{b} + n_3\\vec{c} $ определен двумя числами $n$ и двумя векторами $\\vec{a}$ и $\\vec{b}$.\n",
    "\n",
    "Базис приобретает вид:\n",
    "\n",
    "$T = n_1*\\vec{a} + n_2*\\vec{b}$\n",
    "\n",
    "Тогда любая произвольная точка рассматриваемого одномерного пространства будет определена координатой $r'$, с учётом базиса векторов трансляции $T$ для рассматривамого **двумерного** случая:\n",
    "\n",
    "$ r' = r + n_1*\\vec{a} + n_2*\\vec{b} $ \n",
    "- где $n_i$ - любое произвольное число"
   ]
  },
  {
   "cell_type": "markdown",
   "metadata": {
    "id": "HDOhP98cXBr7"
   },
   "source": [
    "Зададим структуру множествами чисел `n_1` и `n_2` в базисе векторов трансляции `a = np.array([1,0])` и `b = np.array([0,1])`\n",
    "\n",
    "и зададим единственный вид условных атомов точкой `r = 0`"
   ]
  },
  {
   "cell_type": "code",
   "execution_count": 11,
   "metadata": {
    "id": "se9z3w2lXBr7"
   },
   "outputs": [],
   "source": [
    "# Translation vectors a,b\n",
    "a = np.array([1,0])\n",
    "b = np.array([0,1])\n",
    "\n",
    "# Coordinate of defined point (2 dimentional)\n",
    "r = np.array([0,0])\n",
    "\n",
    "# translations sets\n",
    "n_1 = np.arange(-4, 4, 1)\n",
    "n_2 = np.arange(-4, 4, 1)"
   ]
  },
  {
   "cell_type": "markdown",
   "metadata": {
    "id": "o5e_q1DFXBr8"
   },
   "source": [
    "Определим функцию для построения двумерной структуры:"
   ]
  },
  {
   "cell_type": "code",
   "execution_count": 12,
   "metadata": {
    "id": "LycFCBsxXBr8"
   },
   "outputs": [],
   "source": [
    "def get_xy(a, b, r, n_1, n_2):\n",
    "    xes, ycs = [], []\n",
    "    for n in product(n_1, n_2, repeat=1):\n",
    "        # Periodic Boundary Conditions (PBC)\n",
    "        r_prime = r + n[0]*a + n[1]*b\n",
    "        xes.append(r_prime[0])\n",
    "        ycs.append(r_prime[1])\n",
    "    return xes, ycs   "
   ]
  },
  {
   "cell_type": "markdown",
   "metadata": {
    "id": "kUXlTOHHXBr9"
   },
   "source": [
    "Построрим полученный набор точек:"
   ]
  },
  {
   "cell_type": "code",
   "execution_count": 13,
   "metadata": {
    "colab": {
     "base_uri": "https://localhost:8080/",
     "height": 320
    },
    "id": "YhnuebjiXBr9",
    "outputId": "e98c2713-9e05-4aa2-dc6f-5d9af748cd26"
   },
   "outputs": [
    {
     "data": {
      "image/png": "[encoded data removed]",
      "text/plain": [
       "<Figure size 360x360 with 1 Axes>"
      ]
     },
     "metadata": {
      "needs_background": "light"
     },
     "output_type": "display_data"
    }
   ],
   "source": [
    "xes, ycs = get_xy(a, b, r, n_1, n_2)\n",
    "fig, ax = plt.subplots(figsize=(5, 5))\n",
    "plt.plot(xes, ycs, 'bo')\n",
    "plt.show()"
   ]
  },
  {
   "cell_type": "markdown",
   "metadata": {
    "id": "tGB33pK9XBr-"
   },
   "source": [
    "## Описание центрированной структуры"
   ]
  },
  {
   "cell_type": "markdown",
   "metadata": {
    "id": "cKBi8pn0XBr-"
   },
   "source": [
    "Более сложная центрированная структура всё ещё с одним типом атомов:"
   ]
  },
  {
   "cell_type": "code",
   "execution_count": 14,
   "metadata": {
    "id": "WjCx8YNrXBr-"
   },
   "outputs": [],
   "source": [
    "a = np.array([1,0])\n",
    "b = np.array([0,1])\n",
    "\n",
    "r_1 = [0.0,0.0] # corner site atom\n",
    "r_2 = [0.5,0.5] # centered atom\n",
    "\n",
    "# translations sets\n",
    "n_1 = np.arange(0, 4, 1)\n",
    "n_2 = np.arange(0, 4, 1)"
   ]
  },
  {
   "cell_type": "code",
   "execution_count": 15,
   "metadata": {
    "colab": {
     "base_uri": "https://localhost:8080/",
     "height": 324
    },
    "id": "X3ZOguBmXBr-",
    "outputId": "220b2a9a-734b-4439-e748-ad74e5626b9b"
   },
   "outputs": [
    {
     "data": {
      "image/png": "[encoded data removed]",
      "text/plain": [
       "<Figure size 360x360 with 1 Axes>"
      ]
     },
     "metadata": {
      "needs_background": "light"
     },
     "output_type": "display_data"
    }
   ],
   "source": [
    "xes_1, ycs_1 = get_xy(a, b, r_1, n_1, n_2)\n",
    "xes_2, ycs_2 = get_xy(a, b, r_2, n_1, n_2)\n",
    "\n",
    "fig, ax = plt.subplots(figsize=(5, 5))\n",
    "plt.plot(xes_1, ycs_1, 'bo')\n",
    "plt.plot(xes_2, ycs_2, 'bo')\n",
    "plt.xlim(0,3.5) ; plt.ylim(0,3.5)\n",
    "plt.show()"
   ]
  },
  {
   "cell_type": "markdown",
   "metadata": {
    "id": "1Qf8Dd2zXBr_"
   },
   "source": [
    "### Двойственность описания структур"
   ]
  },
  {
   "cell_type": "code",
   "execution_count": 16,
   "metadata": {
    "colab": {
     "base_uri": "https://localhost:8080/",
     "height": 324
    },
    "id": "R2f2u0p4XBsA",
    "outputId": "9b725b08-3638-45a8-82b7-4f391f3690b0"
   },
   "outputs": [
    {
     "data": {
      "image/png": "[encoded data removed]",
      "text/plain": [
       "<Figure size 360x360 with 1 Axes>"
      ]
     },
     "metadata": {
      "needs_background": "light"
     },
     "output_type": "display_data"
    }
   ],
   "source": [
    "# Translation vectors a,b\n",
    "a = np.array([0.5,0.5])\n",
    "b = np.array([0,1])\n",
    "\n",
    "# Coordinate of defined point (2 dimentional)\n",
    "r = np.array([0,0])\n",
    "\n",
    "# translations sets\n",
    "n_1 = np.arange(0, 8, 1)\n",
    "n_2 = np.arange(-4, 4, 1)\n",
    "\n",
    "xes, ycs = get_xy(a, b, r, n_1, n_2)\n",
    "fig, ax = plt.subplots(figsize=(5, 5))\n",
    "plt.plot(xes, ycs, 'bo')\n",
    "plt.xlim(0,3.5) ; plt.ylim(0,3.5)\n",
    "plt.show()"
   ]
  },
  {
   "cell_type": "markdown",
   "metadata": {
    "id": "NYHfHd0OXBsB"
   },
   "source": [
    "## Несколько сортов атомов"
   ]
  },
  {
   "cell_type": "code",
   "execution_count": 17,
   "metadata": {
    "colab": {
     "base_uri": "https://localhost:8080/",
     "height": 320
    },
    "id": "18EO10RVXBsB",
    "outputId": "4c4d847b-ab4c-49a8-a25a-2af04cc30e2a"
   },
   "outputs": [
    {
     "data": {
      "image/png": "[encoded data removed]",
      "text/plain": [
       "<Figure size 360x360 with 1 Axes>"
      ]
     },
     "metadata": {
      "needs_background": "light"
     },
     "output_type": "display_data"
    }
   ],
   "source": [
    "a = np.array([1,0])\n",
    "b = np.array([0,1])\n",
    "\n",
    "r_1 = [0.0,0.0] # corner site atom\n",
    "r_2 = [0.5,0.5] # centered atom\n",
    "\n",
    "# translations sets\n",
    "n_1 = np.arange(0, 4, 1)\n",
    "n_2 = np.arange(0, 4, 1)\n",
    "\n",
    "xes_1, ycs_1 = get_xy(a, b, r_1, n_1, n_2)\n",
    "xes_2, ycs_2 = get_xy(a, b, r_2, n_1, n_2)\n",
    "\n",
    "fig, ax = plt.subplots(figsize=(5, 5))\n",
    "plt.plot(xes_1, ycs_1, 'bo')\n",
    "plt.plot(xes_2, ycs_2, 'ro')\n",
    "plt.show()"
   ]
  },
  {
   "cell_type": "markdown",
   "metadata": {
    "id": "fyCciEGLXBsC"
   },
   "source": [
    "---"
   ]
  },
  {
   "cell_type": "markdown",
   "metadata": {
    "id": "wsJ2SiymXBsC"
   },
   "source": [
    "## Трехмерный случай, с использованием формата записи, аналогичного `POSCAR`:"
   ]
  },
  {
   "cell_type": "markdown",
   "metadata": {
    "id": "JJ2CJR5yXBsD"
   },
   "source": [
    "В формате POSCAR (VASP) вводится так называемый 'scale factor' `s`, который позволяет более явно визуально отразить соотношения векторов трансляции.\n",
    "\n",
    "При этом наборы трансляций в реальности не нужны (объясняется ниже)."
   ]
  },
  {
   "cell_type": "code",
   "execution_count": 18,
   "metadata": {
    "id": "S1cAY1zBXBsD"
   },
   "outputs": [],
   "source": [
    "# scale factor\n",
    "s = 1\n",
    "\n",
    "# translations vectors\n",
    "a = np.array([1.0, 0.0, 0.0])\n",
    "b = np.array([0.0, 1.0, 0.0])\n",
    "c = np.array([0.0, 0.0, 1.0])\n",
    "\n",
    "# points' coordinates\n",
    "r_1 =  np.array([0.0, 0.0, 0.0])\n",
    "r_2 =  np.array([0.5, 0.5, 0.5])\n",
    "\n",
    "# translations sets\n",
    "n_1 = n_2 = n_3 = np.arange(-3, 4, 1)"
   ]
  },
  {
   "cell_type": "markdown",
   "metadata": {
    "id": "xGclm3sfXBsD"
   },
   "source": [
    "В трёхмерном случае базис векторов трансляции определеяющий структуру $ T = n_1\\vec{a} + n_2\\vec{b} + n_3\\vec{c} $ определен всеми тремя числами $n$ и всеми тремя векторами $\\vec{a}$, $\\vec{b}$ и $\\vec{c}$.\n",
    "\n",
    "Тогда любая произвольная точка рассматриваемого одномерного пространства будет определена координатой $r'$, с учётом базиса векторов трансляции $T$ для рассматривамого **трёхмерного** случая:\n",
    "\n",
    "$ r' = r + n_1*\\vec{a} + n_2*\\vec{b} + n_3*\\vec{c} $ \n",
    "- где $n_i$ - любое произвольное число\n",
    "\n",
    "Определим соответствующую функцию для нахождения координат каждого атома в рассматриваемой структуре:"
   ]
  },
  {
   "cell_type": "code",
   "execution_count": 19,
   "metadata": {
    "id": "sfbhaamTXBsE"
   },
   "outputs": [],
   "source": [
    "def get_xyz(s, a, b, c, r, ns):\n",
    "    xes, ycs, zds = [], [], []\n",
    "    for n_i in combinations_with_replacement(n_1, 3):\n",
    "        # Periodic Boundary Conditions (PBC)\n",
    "        r_prime = r + n_i[0]*s*a + n_i[1]*s*b + n_i[2]*s*c\n",
    "        xes.append(r_prime[0])\n",
    "        ycs.append(r_prime[1])\n",
    "        zds.append(r_prime[2])\n",
    "    return xes, ycs, zds"
   ]
  },
  {
   "cell_type": "code",
   "execution_count": 20,
   "metadata": {
    "colab": {
     "base_uri": "https://localhost:8080/",
     "height": 248
    },
    "id": "WtF6Rt0oXBsE",
    "outputId": "696daba4-13ed-4168-a9d4-095cbea637b7"
   },
   "outputs": [
    {
     "data": {
      "image/png": "[encoded data removed]",
      "text/plain": [
       "<Figure size 432x288 with 1 Axes>"
      ]
     },
     "metadata": {
      "needs_background": "light"
     },
     "output_type": "display_data"
    }
   ],
   "source": [
    "from mpl_toolkits.mplot3d import Axes3D\n",
    "\n",
    "fig = plt.figure()\n",
    "ax = fig.add_subplot(111, projection='3d')\n",
    "\n",
    "for r in r_1, r_2:\n",
    "    xes, ycs, zds = get_xyz(s, a, b, c, r, n_1)\n",
    "    ax.scatter(xes, ycs, zds)\n",
    "    plt.xlim(-2,0) ; plt.ylim(-2,0) ; ax.set_zlim(1,3)\n",
    "plt.show()"
   ]
  },
  {
   "cell_type": "markdown",
   "metadata": {
    "id": "bb-bR7I2XBsF"
   },
   "source": [
    "## Вычисление энергии двумерной структуры"
   ]
  },
  {
   "cell_type": "markdown",
   "metadata": {
    "id": "gggGJAk6XBsF"
   },
   "source": [
    "Зададим исследуюмую двумерную структуру:"
   ]
  },
  {
   "cell_type": "code",
   "execution_count": 21,
   "metadata": {
    "colab": {
     "base_uri": "https://localhost:8080/",
     "height": 324
    },
    "id": "g1RQTbwKXBsF",
    "outputId": "ea5b968f-562b-4c78-84ef-6a62fe81e299"
   },
   "outputs": [
    {
     "data": {
      "image/png": "[encoded data removed]",
      "text/plain": [
       "<Figure size 360x360 with 1 Axes>"
      ]
     },
     "metadata": {
      "needs_background": "light"
     },
     "output_type": "display_data"
    }
   ],
   "source": [
    "# Translation vectors a,b\n",
    "a = np.array([0.5,0.5])\n",
    "b = np.array([0,1])\n",
    "\n",
    "# Coordinate of defined point (2 dimentional)\n",
    "r = np.array([0,0])\n",
    "\n",
    "# translations sets\n",
    "n_1 = np.arange(0, 8, 1)\n",
    "n_2 = np.arange(-4, 4, 1)\n",
    "\n",
    "xes, ycs = get_xy(a, b, r, n_1, n_2)\n",
    "fig, ax = plt.subplots(figsize=(5, 5))\n",
    "plt.plot(xes, ycs, 'bo')\n",
    "plt.xlim(0,3.5) ; plt.ylim(0,3.5)\n",
    "plt.show()"
   ]
  },
  {
   "cell_type": "markdown",
   "metadata": {
    "id": "IFbkjdbZXBsG"
   },
   "source": [
    "Выражение определяющее Кулоновский парный потенциал для любого числа частиц определяется следующим образом:\n",
    "\n",
    "$ \\hat{U}_{mn} = \\frac{1}{2} \\sum_{i}\\sum_{j\\neq{i}} \\frac{k Z_i Z_j e^2}{|R_i-R_j|}$"
   ]
  },
  {
   "cell_type": "markdown",
   "metadata": {
    "id": "Dj3Az7NIXBsG"
   },
   "source": [
    "Определим наборы координат всех точек системы: "
   ]
  },
  {
   "cell_type": "code",
   "execution_count": 22,
   "metadata": {
    "id": "oAMDY4P3XBsG"
   },
   "outputs": [],
   "source": [
    "# get points list from structure\n",
    "points = []\n",
    "for p in zip(xes,ycs):\n",
    "    points.append(p)"
   ]
  },
  {
   "cell_type": "markdown",
   "metadata": {
    "id": "mI98F27rXBsH"
   },
   "source": [
    "Каждый отдельный парный потенциал в системе выглядит следующим образом:"
   ]
  },
  {
   "cell_type": "markdown",
   "metadata": {
    "id": "OPi4BXxhXBsH"
   },
   "source": [
    "$ \\frac{k Z_i Z_j e^2}{|R_i-R_j|} $\n",
    "\n",
    "где:\n",
    "- $k$ - [постоянная Кулона\t](https://ru.wikipedia.org/wiki/Закон_Кулона) $k={\\frac{1}{4\\pi \\varepsilon _{0}}}≈8,987 55⋅10^9$  $Ф^{−1}·м $ $(кг·м^3·с^{−4}·А^{−2})$\n",
    "- $e$ - [элементарный заряд или заряд электрона](https://ru.wikipedia.org/wiki/Элементарный_электрический_заряд)\n",
    "- $Z_i$ - заряд первого атома рассматриваемой пары\n",
    "- $Z_j$ - заряд второго атома рассматриваемой пары\n",
    "- $R_i$ - радиус вектор, определяющий положение первого атома в системе\n",
    "- $R_j$ - радиус вектор, определяющий положение второго атома в системе\n",
    "\n",
    "**Вопрос 1:** Как Вы думаете, что определяет выражение $|R_i-R_j|$?\n",
    "\n",
    "**Вопрос 2:** Как Вы думаете, к какому виду взаимодействий в реалистичной системе относится данный потенциал?\n",
    "\n",
    "**Вопрос 3:** В расчёте мы явно не рассматриваем электроны, почему в выражении присутствует заряд электрона?"
   ]
  },
  {
   "cell_type": "markdown",
   "metadata": {
    "id": "iP6Axwb3XBsI"
   },
   "source": [
    "Запишем функцию для расчёта парного потенциала:"
   ]
  },
  {
   "cell_type": "code",
   "execution_count": 23,
   "metadata": {
    "id": "_Av6Mg90XBsI"
   },
   "outputs": [],
   "source": [
    "def get_Coulomb_for_equal_atoms(Z, points):\n",
    "    # Coulomb constant\n",
    "    k = 8.98755E9\n",
    "    e = 1.602176634E-19\n",
    "\n",
    "    # iterate over pairs\n",
    "    sum = 0\n",
    "    for pair in combinations(points, 2):\n",
    "        pair = np.array(pair)\n",
    "        dividend = k*Z*Z*e*e\n",
    "        divider = abs(np.linalg.norm(pair[0]-pair[1]))\n",
    "        quotient = dividend/divider\n",
    "        sum += quotient\n",
    "    U = sum*0.5\n",
    "    return U"
   ]
  },
  {
   "cell_type": "markdown",
   "metadata": {
    "id": "8igWrYHRXBsJ"
   },
   "source": [
    "Предположим, что все точки заряжены и имеют заряд +1:"
   ]
  },
  {
   "cell_type": "code",
   "execution_count": 24,
   "metadata": {
    "colab": {
     "base_uri": "https://localhost:8080/"
    },
    "id": "UkaEiniPXBsJ",
    "outputId": "d71deaf5-f348-452c-d4d2-49678c388a9f"
   },
   "outputs": [
    {
     "data": {
      "text/plain": [
       "9.829243715407992e-26"
      ]
     },
     "execution_count": 24,
     "metadata": {},
     "output_type": "execute_result"
    }
   ],
   "source": [
    "# Charges\n",
    "Z = 1\n",
    "get_Coulomb_for_equal_atoms(Z, points)"
   ]
  },
  {
   "cell_type": "markdown",
   "metadata": {
    "id": "8IFGGny7XBsK"
   },
   "source": [
    "До сих пор мы никак не использовали периодичность структуры."
   ]
  },
  {
   "cell_type": "markdown",
   "metadata": {
    "id": "uVCeTg4fXBsK"
   },
   "source": [
    "Зададим $n_i$ равными, тогда структуры будут определены последовательностями трансляций на равные количества смещений во все стороны.\n",
    "\n",
    "Т.е. набор последовательно меняющихся трёх равных смещений создаст круг (эллипс) с наибольшим радиус-вектором $max(n*\\hat{T}$ ).\n",
    "\n",
    "Назовём его радиусом отсечки рассмотрения структуры и получим аналог для физически видимого горизонта."
   ]
  },
  {
   "cell_type": "code",
   "execution_count": 25,
   "metadata": {
    "id": "6aQbncyBXBsK"
   },
   "outputs": [],
   "source": [
    "# some cut-off distance\n",
    "cut_off = 7\n",
    "\n",
    "# translations sets\n",
    "n_1 = n_2 = np.arange(0-cut_off, cut_off+1, 1)"
   ]
  },
  {
   "cell_type": "code",
   "execution_count": 26,
   "metadata": {
    "id": "oXeYtKfOXBsK"
   },
   "outputs": [],
   "source": [
    "# Translation vectors a,b\n",
    "a = np.array([0.5,0.5])\n",
    "b = np.array([0,1])\n",
    "\n",
    "# Coordinates of defined point (2 dimentional)\n",
    "r = np.array([0,0])"
   ]
  },
  {
   "cell_type": "code",
   "execution_count": 27,
   "metadata": {
    "colab": {
     "base_uri": "https://localhost:8080/",
     "height": 324
    },
    "id": "NZJdBKyuXBsL",
    "outputId": "af95c4fe-e87b-4992-f2d0-c9bec4c25f50"
   },
   "outputs": [
    {
     "data": {
      "image/png": "[encoded data removed]",
      "text/plain": [
       "<Figure size 360x360 with 1 Axes>"
      ]
     },
     "metadata": {
      "needs_background": "light"
     },
     "output_type": "display_data"
    }
   ],
   "source": [
    "xes, ycs = get_xy(a, b, r, n_1, n_2)\n",
    "points = []\n",
    "for p in zip(xes,ycs):\n",
    "    points.append(p)\n",
    "    \n",
    "xes, ycs = get_xy(a, b, r, n_1, n_2)\n",
    "fig, ax = plt.subplots(figsize=(5, 5))\n",
    "plt.plot(xes, ycs, 'bo')\n",
    "plt.xlim(0,3.5) ; plt.ylim(0,3.5)\n",
    "plt.show()"
   ]
  },
  {
   "cell_type": "markdown",
   "metadata": {
    "id": "cX1E6qBXXBsL"
   },
   "source": [
    "Вычислим энергию структуры:"
   ]
  },
  {
   "cell_type": "code",
   "execution_count": 28,
   "metadata": {
    "colab": {
     "base_uri": "https://localhost:8080/"
    },
    "id": "8fPk-Jl2XBsL",
    "outputId": "184c6149-8ebb-43f6-8d94-2fd243be7ad4"
   },
   "outputs": [
    {
     "data": {
      "text/plain": [
       "7.04286086939421e-25"
      ]
     },
     "execution_count": 28,
     "metadata": {},
     "output_type": "execute_result"
    }
   ],
   "source": [
    "Z = 1\n",
    "get_Coulomb_for_equal_atoms(Z, points)"
   ]
  },
  {
   "cell_type": "markdown",
   "metadata": {
    "id": "LgrQw4vuXBsM"
   },
   "source": [
    "Соберем более удобную функцию:"
   ]
  },
  {
   "cell_type": "code",
   "execution_count": 29,
   "metadata": {
    "id": "wOPynQmxXBsM"
   },
   "outputs": [],
   "source": [
    "def get_Coulomb_for_equal_atoms(structure, parameters):\n",
    "    a = np.array(structure['a'])\n",
    "    b = np.array(structure['b'])\n",
    "    r = np.array(structure['r'])\n",
    "    Z = structure['Z'][0]\n",
    "    cut_off = parameters['cut_off'][0]\n",
    "    plot = parameters['plot']\n",
    "    \n",
    "    n_1 = n_2 = np.arange(0-cut_off, cut_off+1, 1)\n",
    "    \n",
    "    xes, ycs = get_xy(a, b, r, n_1, n_2)\n",
    "    points = []\n",
    "    \n",
    "    for p in zip(xes,ycs):\n",
    "        points.append(p)\n",
    "        \n",
    "    if plot:\n",
    "        xes, ycs = get_xy(a, b, r, n_1, n_2)\n",
    "        fig, ax = plt.subplots(figsize=(5, 5))\n",
    "        plt.plot(xes, ycs, 'bo')\n",
    "        plt.xlim(0,3.5) ; plt.ylim(0,3.5)\n",
    "        plt.show()\n",
    "    \n",
    "    # Coulomb constant\n",
    "    k = 8.98755E9\n",
    "    e = 1.602176634E-19\n",
    "    dividend = k*Z*Z*e*e\n",
    "    \n",
    "    # iterate over pairs\n",
    "    sum = 0\n",
    "    c = 1\n",
    "    for pair in combinations(points, 2):\n",
    "        pair = np.array(pair)\n",
    "        divider = abs(np.linalg.norm(pair[0]-pair[1]))\n",
    "        quotient = dividend/divider\n",
    "        sum += quotient\n",
    "        c += 1\n",
    "    U = sum*0.5/c\n",
    "    return U, c"
   ]
  },
  {
   "cell_type": "code",
   "execution_count": 30,
   "metadata": {
    "colab": {
     "base_uri": "https://localhost:8080/",
     "height": 358
    },
    "id": "ywIS-YrRXBsN",
    "outputId": "fdacf720-c258-464e-c893-8175b1ee2866"
   },
   "outputs": [
    {
     "data": {
      "image/png": "[encoded data removed]",
      "text/plain": [
       "<Figure size 360x360 with 1 Axes>"
      ]
     },
     "metadata": {
      "needs_background": "light"
     },
     "output_type": "display_data"
    },
    {
     "name": "stdout",
     "output_type": "stream",
     "text": [
      "Coulomb potential of defined structure is: 2.490788450898481e-29 V/atom\n",
      "Iterated over 41617 atoms\n"
     ]
    }
   ],
   "source": [
    "structure = {'a':[0.5, 0.5], \n",
    "             'b':[0.0, 1.0],\n",
    "             'Z':[1.0],\n",
    "             'r':[0.0, 0.0]}\n",
    "\n",
    "parameters = {'cut_off':[8], \n",
    "              'plot':True}\n",
    "\n",
    "U, c = get_Coulomb_for_equal_atoms(structure, parameters)\n",
    "print(f'Coulomb potential of defined structure is: {U} V/atom')\n",
    "print(f\"Iterated over {c} atoms\")"
   ]
  },
  {
   "cell_type": "markdown",
   "metadata": {
    "id": "C52VJS9LXBsN"
   },
   "source": [
    "Найдём оптимальный cut-off:"
   ]
  },
  {
   "cell_type": "code",
   "execution_count": 31,
   "metadata": {
    "colab": {
     "base_uri": "https://localhost:8080/",
     "height": 1000
    },
    "id": "wLQNEngTXBsO",
    "outputId": "4affa8a9-a0fe-47a4-9807-bf81aaadda03"
   },
   "outputs": [
    {
     "name": "stdout",
     "output_type": "stream",
     "text": [
      "Cut-off distance: 1\n",
      "Coulomb potential: 1.0057738573623727e-28 V/atom\n",
      "Iterated over 37 atoms\n",
      "---------------------------------\n",
      "Cut-off distance: 2\n",
      "Coulomb potential: 7.126369658437786e-29 V/atom\n",
      "Iterated over 301 atoms\n",
      "---------------------------------\n",
      "Cut-off distance: 3\n",
      "Coulomb potential: 5.450199843618568e-29 V/atom\n",
      "Iterated over 1177 atoms\n",
      "---------------------------------\n",
      "Cut-off distance: 4\n",
      "Coulomb potential: 4.4059285077514576e-29 V/atom\n",
      "Iterated over 3241 atoms\n",
      "---------------------------------\n",
      "Cut-off distance: 5\n",
      "Coulomb potential: 3.696140260482121e-29 V/atom\n",
      "Iterated over 7261 atoms\n",
      "---------------------------------\n",
      "Cut-off distance: 6\n",
      "Coulomb potential: 3.182907728216442e-29 V/atom\n",
      "Iterated over 14197 atoms\n",
      "---------------------------------\n",
      "Cut-off distance: 7\n",
      "Coulomb potential: 2.794675159475501e-29 V/atom\n",
      "Iterated over 25201 atoms\n",
      "---------------------------------\n",
      "Cut-off distance: 8\n",
      "Coulomb potential: 2.490788450898481e-29 V/atom\n",
      "Iterated over 41617 atoms\n",
      "---------------------------------\n",
      "Cut-off distance: 9\n",
      "Coulomb potential: 2.246475968320713e-29 V/atom\n",
      "Iterated over 64981 atoms\n",
      "---------------------------------\n",
      "Cut-off distance: 10\n",
      "Coulomb potential: 2.0457930411546487e-29 V/atom\n",
      "Iterated over 97021 atoms\n",
      "---------------------------------\n",
      "Cut-off distance: 11\n",
      "Coulomb potential: 1.87801544124493e-29 V/atom\n",
      "Iterated over 139657 atoms\n",
      "---------------------------------\n",
      "Cut-off distance: 12\n",
      "Coulomb potential: 1.735665883711946e-29 V/atom\n",
      "Iterated over 195001 atoms\n",
      "---------------------------------\n",
      "Cut-off distance: 13\n",
      "Coulomb potential: 1.6133722538532858e-29 V/atom\n",
      "Iterated over 265357 atoms\n",
      "---------------------------------\n",
      "Cut-off distance: 14\n",
      "Coulomb potential: 1.5071757330837252e-29 V/atom\n",
      "Iterated over 353221 atoms\n",
      "---------------------------------\n"
     ]
    },
    {
     "data": {
      "text/plain": [
       "Text(0, 0.5, 'Energy, V/atom')"
      ]
     },
     "execution_count": 31,
     "metadata": {},
     "output_type": "execute_result"
    },
    {
     "data": {
      "image/png": "[encoded data removed]",
      "text/plain": [
       "<Figure size 432x288 with 1 Axes>"
      ]
     },
     "metadata": {
      "needs_background": "light"
     },
     "output_type": "display_data"
    }
   ],
   "source": [
    "cut_dists = range(1,15,1)\n",
    "energies = []\n",
    "\n",
    "structure = {'a':[0.5, 0.5], \n",
    "             'b':[0.0, 1.0],\n",
    "             'Z':[1.0],\n",
    "             'r':[0.0, 0.0]}\n",
    "\n",
    "for cut_dist in cut_dists:\n",
    "    parameters = {'cut_off':[cut_dist], \n",
    "                  'plot':False}\n",
    "    U, c = get_Coulomb_for_equal_atoms(structure, parameters)\n",
    "    print(f'Cut-off distance: {cut_dist}')\n",
    "    print(f'Coulomb potential: {U} V/atom')\n",
    "    print(f\"Iterated over {c} atoms\")\n",
    "    energies.append(U)\n",
    "    print('---------------------------------')\n",
    "    \n",
    "plt.plot(cut_dists, energies)\n",
    "plt.xlabel('Cut-off distance')\n",
    "plt.ylabel('Energy, V/atom')"
   ]
  },
  {
   "cell_type": "markdown",
   "metadata": {
    "id": "GUaKot6kXBsO"
   },
   "source": [
    "**Вопрос 1:** Почему посдледовательность потенциалов получилась сходящейся?\n",
    "\n",
    "**Вопрос 2:** Как это можно использовать, чтобы уйти от частного случая рассмотрения ограниченного участка периодической структуры?"
   ]
  },
  {
   "cell_type": "markdown",
   "metadata": {
    "id": "vVguoXhHXBsO"
   },
   "source": [
    "## Немного истории\n",
    "\n",
    "- Выражение потенциала, которое мы использовали было открыто в 1785 году.\n",
    "- Метод, позволяющий вычислять парный потенциал Кулоновского взаимодействия был разработан в 1922 году Питером Эвальдом\n",
    "А операция быстрого суммирования отдельных парных потенциалов получила название [Суммрование по Эвальду (Ewald Summation)](https://en.wikipedia.org/wiki/Ewald_summation)\n",
    "- В то время, как комьютерная имплементация этой операции, позволяющая практически мгновенно получать Кулоновский потенциал для очень больших периодических систем без итерирования создана в 1996 году и описана в [статье Toukmaji A.Y., Board, John A. Ewald summation techniques in perspective: a survey Comput. Phys. Commun. 1996. Vol. 95, № 2. P. 73–92.](https://doi.org/10.1016/0010-4655(96)00016-1)\n",
    "- В библиотеках для Python есть готовые имплементации для сотен разных потенциалов, как парных, так и многочастичных, в т.ч. суммирование Эвальда"
   ]
  },
  {
   "cell_type": "markdown",
   "metadata": {
    "id": "IWFz39FhXBsP"
   },
   "source": [
    "## Бонусное задание (+10/+20 б.):\n",
    "Найти ошибку в имплементации."
   ]
  },
  {
   "cell_type": "markdown",
   "metadata": {},
   "source": [
    "**Для того чтобы выполнить бонусное задание и получить баллы необходимо:**\n",
    "\n",
    "1) ознакомится с материалом по ссылкам с описанием метода ([Wikipedia](https://en.wikipedia.org/wiki/Coulomb_barrier))\n",
    "\n",
    "2) скопировать части блокнота относящиеся к рассматриваемому вопросу в отдельный блокнот\n",
    "\n",
    "3) привести пояснения к исправлениям\n",
    "\n",
    "4) сделать вывод о том, как это влияет на результаты построения сходимости (как меняется функция $\\hat{U}_{mn} = f(R_{cutoff}))$\n",
    "\n",
    "5) дать физическую интерпретацию изменений (пример был на занятии)\n",
    "\n",
    "6) прислать файл любым способом или загрузить в специальный раздел в заданиях в  canvas, когда он станет доступен\n",
    "\n",
    "*Например, в качестве значительных улучшений может быть рассмотрено расширение метода на трехмерный случай.*"
   ]
  },
  {
   "cell_type": "markdown",
   "metadata": {},
   "source": [
    "## Оценивание\n",
    "В результате Вы гарантированно получите 10 баллов, в случае если выводы верны, а также получите доп. баллы, если изменения значительно улучшили имплементацию. Максимальный балл равен 20, то есть эта работа может полностью заменить практическую работу.\n",
    "\n",
    "**Баллы не начисляются за аналогичные решения. В этом случае будет зачтена более ранняя отправка.**"
   ]
  }
 ],
 "metadata": {
  "colab": {
   "name": "Practics_2.ipynb",
   "provenance": [],
   "toc_visible": true
  },
  "kernelspec": {
   "display_name": "Python 3",
   "language": "python",
   "name": "python3"
  },
  "language_info": {
   "codemirror_mode": {
    "name": "ipython",
    "version": 3
   },
   "file_extension": ".py",
   "mimetype": "text/x-python",
   "name": "python",
   "nbconvert_exporter": "python",
   "pygments_lexer": "ipython3",
   "version": "3.8.8"
  }
 },
 "nbformat": 4,
 "nbformat_minor": 4
}
